{
 "cells": [
  {
   "cell_type": "code",
   "execution_count": 39,
   "id": "b811d0c5-98d6-414a-84b0-3696137104a3",
   "metadata": {},
   "outputs": [],
   "source": [
    "# Training_model\n",
    "import pandas as pd\n",
    "import numpy as np\n",
    "import  matplotlib.pyplot as plt\n",
    "import matplotlib.gridspec as gs\n",
    "import seaborn as sns\n",
    "\n",
    "#data Modelling\n",
    "from sklearn.metrics  import  r2_score, mean_squared_error, mean_absolute_error\n",
    "from sklearn.neighbors import KNeighborsRegressor\n",
    "from sklearn.ensemble import RandomForestRegressor, AdaBoostRegressor\n",
    "from sklearn.tree import DecisionTreeRegressor\n",
    "from sklearn.svm import SVR\n",
    "from sklearn.linear_model import Ridge, Lasso, LinearRegression\n",
    "from sklearn.model_selection import RandomizedSearchCV\n",
    "from xgboost import XGBRegressor\n",
    "from catboost import CatBoostRegressor\n",
    "\n",
    "\n"
   ]
  },
  {
   "cell_type": "markdown",
   "id": "2a61a360-5b24-491b-bb3d-2d81e78162f2",
   "metadata": {},
   "source": [
    "## Importing Data"
   ]
  },
  {
   "cell_type": "code",
   "execution_count": 42,
   "id": "d2540fd1-cc09-4f4a-b624-c06712fd504a",
   "metadata": {},
   "outputs": [
    {
     "data": {
      "text/html": [
       "<div>\n",
       "<style scoped>\n",
       "    .dataframe tbody tr th:only-of-type {\n",
       "        vertical-align: middle;\n",
       "    }\n",
       "\n",
       "    .dataframe tbody tr th {\n",
       "        vertical-align: top;\n",
       "    }\n",
       "\n",
       "    .dataframe thead th {\n",
       "        text-align: right;\n",
       "    }\n",
       "</style>\n",
       "<table border=\"1\" class=\"dataframe\">\n",
       "  <thead>\n",
       "    <tr style=\"text-align: right;\">\n",
       "      <th></th>\n",
       "      <th>gender</th>\n",
       "      <th>race_ethnicity</th>\n",
       "      <th>parental_level_of_education</th>\n",
       "      <th>lunch</th>\n",
       "      <th>test_preparation_course</th>\n",
       "      <th>math_score</th>\n",
       "      <th>reading_score</th>\n",
       "      <th>writing_score</th>\n",
       "    </tr>\n",
       "  </thead>\n",
       "  <tbody>\n",
       "    <tr>\n",
       "      <th>882</th>\n",
       "      <td>female</td>\n",
       "      <td>group B</td>\n",
       "      <td>high school</td>\n",
       "      <td>free/reduced</td>\n",
       "      <td>none</td>\n",
       "      <td>64</td>\n",
       "      <td>73</td>\n",
       "      <td>71</td>\n",
       "    </tr>\n",
       "    <tr>\n",
       "      <th>25</th>\n",
       "      <td>male</td>\n",
       "      <td>group A</td>\n",
       "      <td>master's degree</td>\n",
       "      <td>free/reduced</td>\n",
       "      <td>none</td>\n",
       "      <td>73</td>\n",
       "      <td>74</td>\n",
       "      <td>72</td>\n",
       "    </tr>\n",
       "  </tbody>\n",
       "</table>\n",
       "</div>"
      ],
      "text/plain": [
       "     gender race_ethnicity parental_level_of_education         lunch  \\\n",
       "882  female        group B                 high school  free/reduced   \n",
       "25     male        group A             master's degree  free/reduced   \n",
       "\n",
       "    test_preparation_course  math_score  reading_score  writing_score  \n",
       "882                    none          64             73             71  \n",
       "25                     none          73             74             72  "
      ]
     },
     "execution_count": 42,
     "metadata": {},
     "output_type": "execute_result"
    }
   ],
   "source": [
    "#imprting dataset\n",
    "df_students = pd.read_csv(\"/mnt/c/Users/hp/python_pipenv/Machine learning/stud.csv\")\n",
    "df_students.sample(2)"
   ]
  },
  {
   "cell_type": "code",
   "execution_count": 44,
   "id": "5b005926-5dfc-4b84-b2ca-d9ed581fd2e4",
   "metadata": {},
   "outputs": [
    {
     "name": "stdout",
     "output_type": "stream",
     "text": [
      "<class 'pandas.core.frame.DataFrame'>\n",
      "RangeIndex: 1000 entries, 0 to 999\n",
      "Data columns (total 8 columns):\n",
      " #   Column                       Non-Null Count  Dtype \n",
      "---  ------                       --------------  ----- \n",
      " 0   gender                       1000 non-null   object\n",
      " 1   race_ethnicity               1000 non-null   object\n",
      " 2   parental_level_of_education  1000 non-null   object\n",
      " 3   lunch                        1000 non-null   object\n",
      " 4   test_preparation_course      1000 non-null   object\n",
      " 5   math_score                   1000 non-null   int64 \n",
      " 6   reading_score                1000 non-null   int64 \n",
      " 7   writing_score                1000 non-null   int64 \n",
      "dtypes: int64(3), object(5)\n",
      "memory usage: 62.6+ KB\n"
     ]
    }
   ],
   "source": [
    "df_students.info()"
   ]
  },
  {
   "cell_type": "code",
   "execution_count": 45,
   "id": "3a4297aa-0c23-4696-8267-014ea69f77cb",
   "metadata": {},
   "outputs": [],
   "source": [
    "def missing_vals(df):\n",
    "    '''\n",
    "    A function to display the total numer of missing columns and the\n",
    "    percentage of each missin values\n",
    "    '''\n",
    "    \n",
    "    y = df.columns\n",
    "    x = map(lambda x: round(df[x].isna().sum()/df.shape[0],2), y) #missing values\n",
    "    z = map(lambda x: df[x].isna().sum(), y) #missung values percent\n",
    "    \n",
    "    # Appending Dataframes\n",
    "    _first = pd.DataFrame(df.dtypes).T.rename(index ={0:'Column_type'})\n",
    "    return  _first.append(pd.DataFrame({'Null_values':list(z), 'Percent': list(x)}, index = list(y)).T)\n",
    "    "
   ]
  },
  {
   "cell_type": "code",
   "execution_count": 46,
   "id": "f0999d1d-a5f1-440e-a969-2b474f7c6ec5",
   "metadata": {},
   "outputs": [
    {
     "name": "stderr",
     "output_type": "stream",
     "text": [
      "/tmp/ipykernel_279/3119527629.py:13: FutureWarning: The frame.append method is deprecated and will be removed from pandas in a future version. Use pandas.concat instead.\n",
      "  return  _first.append(pd.DataFrame({'Null_values':list(z), 'Percent': list(x)}, index = list(y)).T)\n"
     ]
    },
    {
     "data": {
      "text/html": [
       "<div>\n",
       "<style scoped>\n",
       "    .dataframe tbody tr th:only-of-type {\n",
       "        vertical-align: middle;\n",
       "    }\n",
       "\n",
       "    .dataframe tbody tr th {\n",
       "        vertical-align: top;\n",
       "    }\n",
       "\n",
       "    .dataframe thead th {\n",
       "        text-align: right;\n",
       "    }\n",
       "</style>\n",
       "<table border=\"1\" class=\"dataframe\">\n",
       "  <thead>\n",
       "    <tr style=\"text-align: right;\">\n",
       "      <th></th>\n",
       "      <th>gender</th>\n",
       "      <th>race_ethnicity</th>\n",
       "      <th>parental_level_of_education</th>\n",
       "      <th>lunch</th>\n",
       "      <th>test_preparation_course</th>\n",
       "      <th>math_score</th>\n",
       "      <th>reading_score</th>\n",
       "      <th>writing_score</th>\n",
       "    </tr>\n",
       "  </thead>\n",
       "  <tbody>\n",
       "    <tr>\n",
       "      <th>Column_type</th>\n",
       "      <td>object</td>\n",
       "      <td>object</td>\n",
       "      <td>object</td>\n",
       "      <td>object</td>\n",
       "      <td>object</td>\n",
       "      <td>int64</td>\n",
       "      <td>int64</td>\n",
       "      <td>int64</td>\n",
       "    </tr>\n",
       "    <tr>\n",
       "      <th>Null_values</th>\n",
       "      <td>0.0</td>\n",
       "      <td>0.0</td>\n",
       "      <td>0.0</td>\n",
       "      <td>0.0</td>\n",
       "      <td>0.0</td>\n",
       "      <td>0.0</td>\n",
       "      <td>0.0</td>\n",
       "      <td>0.0</td>\n",
       "    </tr>\n",
       "    <tr>\n",
       "      <th>Percent</th>\n",
       "      <td>0.0</td>\n",
       "      <td>0.0</td>\n",
       "      <td>0.0</td>\n",
       "      <td>0.0</td>\n",
       "      <td>0.0</td>\n",
       "      <td>0.0</td>\n",
       "      <td>0.0</td>\n",
       "      <td>0.0</td>\n",
       "    </tr>\n",
       "  </tbody>\n",
       "</table>\n",
       "</div>"
      ],
      "text/plain": [
       "             gender race_ethnicity parental_level_of_education   lunch  \\\n",
       "Column_type  object         object                      object  object   \n",
       "Null_values     0.0            0.0                         0.0     0.0   \n",
       "Percent         0.0            0.0                         0.0     0.0   \n",
       "\n",
       "            test_preparation_course math_score reading_score writing_score  \n",
       "Column_type                  object      int64         int64         int64  \n",
       "Null_values                     0.0        0.0           0.0           0.0  \n",
       "Percent                         0.0        0.0           0.0           0.0  "
      ]
     },
     "execution_count": 46,
     "metadata": {},
     "output_type": "execute_result"
    }
   ],
   "source": [
    "missing_vals(df_students)"
   ]
  },
  {
   "cell_type": "code",
   "execution_count": 43,
   "id": "d8c1d034-8405-436b-977a-60958f91d0de",
   "metadata": {},
   "outputs": [],
   "source": [
    "#selecting Numerical and categorical columns\n",
    "numerical_cols = df_students.select_dtypes(include = np.number).columns.tolist()\n",
    "categorical_cols =  df_students.select_dtypes('object').columns.tolist()"
   ]
  },
  {
   "cell_type": "code",
   "execution_count": 51,
   "id": "309a1e70-3d3f-4cf6-9b86-0a26568e5ce0",
   "metadata": {},
   "outputs": [
    {
     "name": "stdout",
     "output_type": "stream",
     "text": [
      "Numerical columns include ['math_score', 'reading_score', 'writing_score']\n",
      "categorical columns include ['gender', 'race_ethnicity', 'parental_level_of_education', 'lunch', 'test_preparation_course']\n"
     ]
    }
   ],
   "source": [
    "print('Numerical columns include {}'.format(numerical_cols))\n",
    "print('categorical columns include {}'.format(categorical_cols))\n"
   ]
  },
  {
   "cell_type": "code",
   "execution_count": 52,
   "id": "4e86d94d-7667-4499-9cdc-2a79cad7d945",
   "metadata": {},
   "outputs": [],
   "source": [
    "# craeting  a copy of Dataset\n",
    "df_students1 = df_students.copy()"
   ]
  },
  {
   "cell_type": "markdown",
   "id": "a7d1732c-60d9-426c-9c35-056a5c3f5f9a",
   "metadata": {},
   "source": [
    "## Preparing X and Y Variables"
   ]
  },
  {
   "cell_type": "code",
   "execution_count": 53,
   "id": "7399d7f2-2a34-4020-abc8-3729cb5fdf1e",
   "metadata": {},
   "outputs": [],
   "source": [
    "x,y = df_students1.drop('math_score', axis = 1), df_students['math_score'] "
   ]
  },
  {
   "cell_type": "code",
   "execution_count": 55,
   "id": "17bfc4ac-3616-4c51-abda-3734b504b5e7",
   "metadata": {},
   "outputs": [
    {
     "data": {
      "text/html": [
       "<div>\n",
       "<style scoped>\n",
       "    .dataframe tbody tr th:only-of-type {\n",
       "        vertical-align: middle;\n",
       "    }\n",
       "\n",
       "    .dataframe tbody tr th {\n",
       "        vertical-align: top;\n",
       "    }\n",
       "\n",
       "    .dataframe thead th {\n",
       "        text-align: right;\n",
       "    }\n",
       "</style>\n",
       "<table border=\"1\" class=\"dataframe\">\n",
       "  <thead>\n",
       "    <tr style=\"text-align: right;\">\n",
       "      <th></th>\n",
       "      <th>gender</th>\n",
       "      <th>race_ethnicity</th>\n",
       "      <th>parental_level_of_education</th>\n",
       "      <th>lunch</th>\n",
       "      <th>test_preparation_course</th>\n",
       "      <th>reading_score</th>\n",
       "      <th>writing_score</th>\n",
       "    </tr>\n",
       "  </thead>\n",
       "  <tbody>\n",
       "    <tr>\n",
       "      <th>737</th>\n",
       "      <td>female</td>\n",
       "      <td>group B</td>\n",
       "      <td>some college</td>\n",
       "      <td>free/reduced</td>\n",
       "      <td>completed</td>\n",
       "      <td>66</td>\n",
       "      <td>73</td>\n",
       "    </tr>\n",
       "    <tr>\n",
       "      <th>480</th>\n",
       "      <td>male</td>\n",
       "      <td>group B</td>\n",
       "      <td>high school</td>\n",
       "      <td>standard</td>\n",
       "      <td>completed</td>\n",
       "      <td>71</td>\n",
       "      <td>68</td>\n",
       "    </tr>\n",
       "  </tbody>\n",
       "</table>\n",
       "</div>"
      ],
      "text/plain": [
       "     gender race_ethnicity parental_level_of_education         lunch  \\\n",
       "737  female        group B                some college  free/reduced   \n",
       "480    male        group B                 high school      standard   \n",
       "\n",
       "    test_preparation_course  reading_score  writing_score  \n",
       "737               completed             66             73  \n",
       "480               completed             71             68  "
      ]
     },
     "execution_count": 55,
     "metadata": {},
     "output_type": "execute_result"
    }
   ],
   "source": [
    "x.sample(2)"
   ]
  },
  {
   "cell_type": "code",
   "execution_count": 61,
   "id": "b56b9540-ded4-4b2f-9104-2a85821d40de",
   "metadata": {},
   "outputs": [],
   "source": [
    "num_features = x.select_dtypes(exclude = 'object').columns\n",
    "cat_features = x.select_dtypes(include = 'object').columns\n",
    "\n",
    "from sklearn.preprocessing import OneHotEncoder, StandardScaler\n",
    "from sklearn.compose import ColumnTransformer\n",
    "\n",
    "numeric_transformer = StandardScaler()\n",
    "oh_transformer = OneHotEncoder()\n",
    "\n",
    "preprocessor = ColumnTransformer(\n",
    "            [\n",
    "            ('OneHotEncoder', oh_transformer, cat_features),\n",
    "            ('standardScaler', numeric_transformer, num_features),\n",
    "                \n",
    "            ]\n",
    "                    )\n",
    "\n",
    "\n"
   ]
  },
  {
   "cell_type": "code",
   "execution_count": 62,
   "id": "5eec3dd1-e081-4b8c-b9ef-83047c2af2dc",
   "metadata": {},
   "outputs": [],
   "source": [
    "x = preprocessor.fit_transform(x)"
   ]
  },
  {
   "cell_type": "code",
   "execution_count": 64,
   "id": "c171a3e6-86b6-4464-9684-8971456f3bea",
   "metadata": {},
   "outputs": [
    {
     "data": {
      "text/plain": [
       "(1000, 19)"
      ]
     },
     "execution_count": 64,
     "metadata": {},
     "output_type": "execute_result"
    }
   ],
   "source": [
    "x.shape"
   ]
  },
  {
   "cell_type": "code",
   "execution_count": 70,
   "id": "ce6a4067-c4e9-4b90-ac17-a477fe837ec6",
   "metadata": {},
   "outputs": [],
   "source": [
    "#seprate dataset into train and test\n",
    "from sklearn.model_selection import train_test_split\n",
    "X_train, X_test, y_train, y_test = train_test_split(x,y, test_size = 0.2, random_state = 42)"
   ]
  },
  {
   "cell_type": "code",
   "execution_count": 73,
   "id": "36ccd3e3-3dd7-47f8-963d-693552a5b5ae",
   "metadata": {},
   "outputs": [
    {
     "data": {
      "text/plain": [
       "((800, 19), (200, 19))"
      ]
     },
     "execution_count": 73,
     "metadata": {},
     "output_type": "execute_result"
    }
   ],
   "source": [
    "X_train.shape, X_test.shape"
   ]
  },
  {
   "cell_type": "code",
   "execution_count": 85,
   "id": "4e647ed2-67d9-494c-baaa-360c2a48b1d4",
   "metadata": {},
   "outputs": [],
   "source": [
    "#creating metric function\n",
    "def evaluate_model(true, predicted):\n",
    "    '''\n",
    "    This is a function to return the error metrics\n",
    "    '''\n",
    "    mae =  mean_absolute_error(true, predicted)\n",
    "    mse = mean_squared_error(true, predicted)\n",
    "    rmse = np.sqrt(mean_squared_error(true, predicted))\n",
    "    r2_square = r2_score(true, predicted)\n",
    "    return mae,rmse,r2_square"
   ]
  },
  {
   "cell_type": "code",
   "execution_count": 92,
   "id": "4e6de9c4-63be-4e77-bb51-23c4007a03b5",
   "metadata": {},
   "outputs": [
    {
     "name": "stdout",
     "output_type": "stream",
     "text": [
      "Linear_Regression\n",
      "Model Performances for Training set\n",
      " - Root Mean squared Errror: 5.3231\n",
      " - Mean Absolute Errror: 4.2667\n",
      " -r2 score: 5.3231\n",
      "-----------------------\n",
      "Model Performances for Test set\n",
      " - Root Mean squared Errror: 5.3940\n",
      " - Mean Absolute Errror: 4.2148\n",
      " -r2 score: 5.3940\n",
      "===================================\n",
      "\n",
      "\n",
      "Lasso\n",
      "Model Performances for Training set\n",
      " - Root Mean squared Errror: 6.5938\n",
      " - Mean Absolute Errror: 5.2063\n",
      " -r2 score: 6.5938\n",
      "-----------------------\n",
      "Model Performances for Test set\n",
      " - Root Mean squared Errror: 6.5197\n",
      " - Mean Absolute Errror: 5.1579\n",
      " -r2 score: 6.5197\n",
      "===================================\n",
      "\n",
      "\n",
      "Ridge\n",
      "Model Performances for Training set\n",
      " - Root Mean squared Errror: 5.3233\n",
      " - Mean Absolute Errror: 4.2650\n",
      " -r2 score: 5.3233\n",
      "-----------------------\n",
      "Model Performances for Test set\n",
      " - Root Mean squared Errror: 5.3904\n",
      " - Mean Absolute Errror: 4.2111\n",
      " -r2 score: 5.3904\n",
      "===================================\n",
      "\n",
      "\n",
      "K-Neighbors Regressor\n",
      "Model Performances for Training set\n",
      " - Root Mean squared Errror: 5.7088\n",
      " - Mean Absolute Errror: 4.5177\n",
      " -r2 score: 5.7088\n",
      "-----------------------\n",
      "Model Performances for Test set\n",
      " - Root Mean squared Errror: 7.2494\n",
      " - Mean Absolute Errror: 5.6090\n",
      " -r2 score: 7.2494\n",
      "===================================\n",
      "\n",
      "\n",
      "Decision_Tree_Regressor\n",
      "Model Performances for Training set\n",
      " - Root Mean squared Errror: 0.2795\n",
      " - Mean Absolute Errror: 0.0187\n",
      " -r2 score: 0.2795\n",
      "-----------------------\n",
      "Model Performances for Test set\n",
      " - Root Mean squared Errror: 7.7405\n",
      " - Mean Absolute Errror: 6.1950\n",
      " -r2 score: 7.7405\n",
      "===================================\n",
      "\n",
      "\n",
      "Random_Forest_Regressor\n",
      "Model Performances for Training set\n",
      " - Root Mean squared Errror: 2.2870\n",
      " - Mean Absolute Errror: 1.8360\n",
      " -r2 score: 2.2870\n",
      "-----------------------\n",
      "Model Performances for Test set\n",
      " - Root Mean squared Errror: 5.9809\n",
      " - Mean Absolute Errror: 4.6442\n",
      " -r2 score: 5.9809\n",
      "===================================\n",
      "\n",
      "\n",
      "XGBregressor\n",
      "Model Performances for Training set\n",
      " - Root Mean squared Errror: 0.9087\n",
      " - Mean Absolute Errror: 0.6148\n",
      " -r2 score: 0.9087\n",
      "-----------------------\n",
      "Model Performances for Test set\n",
      " - Root Mean squared Errror: 6.5889\n",
      " - Mean Absolute Errror: 5.0844\n",
      " -r2 score: 6.5889\n",
      "===================================\n",
      "\n",
      "\n",
      "Catoosting_REgressor\n",
      "Model Performances for Training set\n",
      " - Root Mean squared Errror: 3.0427\n",
      " - Mean Absolute Errror: 2.4054\n",
      " -r2 score: 3.0427\n",
      "-----------------------\n",
      "Model Performances for Test set\n",
      " - Root Mean squared Errror: 6.0086\n",
      " - Mean Absolute Errror: 4.6125\n",
      " -r2 score: 6.0086\n",
      "===================================\n",
      "\n",
      "\n",
      "AdaBoost Regressor\n",
      "Model Performances for Training set\n",
      " - Root Mean squared Errror: 5.7537\n",
      " - Mean Absolute Errror: 4.7259\n",
      " -r2 score: 5.7537\n",
      "-----------------------\n",
      "Model Performances for Test set\n",
      " - Root Mean squared Errror: 6.0249\n",
      " - Mean Absolute Errror: 4.7234\n",
      " -r2 score: 6.0249\n",
      "===================================\n",
      "\n",
      "\n"
     ]
    }
   ],
   "source": [
    "models = {\n",
    "        'Linear_Regression': LinearRegression(),\n",
    "        'Lasso': Lasso(),\n",
    "        'Ridge': Ridge(),\n",
    "        'K-Neighbors Regressor': KNeighborsRegressor(),\n",
    "        'Decision_Tree_Regressor': DecisionTreeRegressor(),\n",
    "        'Random_Forest_Regressor': RandomForestRegressor(),\n",
    "        'XGBregressor': XGBRegressor(),\n",
    "        'Catoosting_REgressor': CatBoostRegressor(verbose = False),\n",
    "        'AdaBoost Regressor': AdaBoostRegressor()\n",
    "    \n",
    "}\n",
    "model_list = []\n",
    "r2_list = []\n",
    "\n",
    "for i in range(len(list(models))):\n",
    "    model = list(models.values())[i]\n",
    "    model.fit(X_train, y_train) # Train_model\n",
    "    \n",
    "    #make_predictions\n",
    "    y_train_pred = model.predict(X_train)\n",
    "    y_test_pred = model.predict(X_test)\n",
    "    \n",
    "    #Evaluate Train and Test dataset\n",
    "    model_train_mae, model_train_rmse, model_train_r2 = evaluate_model(y_train, y_train_pred)\n",
    "    \n",
    "    model_test_mae, model_test_rmse, model_test_r2 = evaluate_model(y_test, y_test_pred)\n",
    "    \n",
    "    print(list(models.keys())[i])\n",
    "    model_list.append(list(models.keys())[i])\n",
    "    \n",
    "    print('Model Performances for Training set')\n",
    "    print(' - Root Mean squared Errror: {:.4f}'.format(model_train_rmse))\n",
    "    print(' - Mean Absolute Errror: {:.4f}'.format(model_train_mae))\n",
    "    print(' -r2 score: {:.4f}'.format(model_train_rmse))\n",
    "    \n",
    "    print('-----------------------')\n",
    "    \n",
    "    print('Model Performances for Test set')\n",
    "    print(' - Root Mean squared Errror: {:.4f}'.format(model_test_rmse))\n",
    "    print(' - Mean Absolute Errror: {:.4f}'.format(model_test_mae))\n",
    "    print(' -r2 score: {:.4f}'.format(model_test_rmse))\n",
    "    r2_list.append(model_test_r2)\n",
    "    \n",
    "    print('=' *35)# separator\n",
    "    print('\\n')# newline\n",
    "    \n",
    "        \n",
    "    \n",
    "    "
   ]
  },
  {
   "cell_type": "markdown",
   "id": "363a4e29-af64-48d3-beb6-6735fc4b152f",
   "metadata": {},
   "source": [
    "# Results"
   ]
  },
  {
   "cell_type": "code",
   "execution_count": 93,
   "id": "84f8df58-f1f0-463c-bdb7-aacd5c055989",
   "metadata": {},
   "outputs": [
    {
     "data": {
      "text/html": [
       "<div>\n",
       "<style scoped>\n",
       "    .dataframe tbody tr th:only-of-type {\n",
       "        vertical-align: middle;\n",
       "    }\n",
       "\n",
       "    .dataframe tbody tr th {\n",
       "        vertical-align: top;\n",
       "    }\n",
       "\n",
       "    .dataframe thead th {\n",
       "        text-align: right;\n",
       "    }\n",
       "</style>\n",
       "<table border=\"1\" class=\"dataframe\">\n",
       "  <thead>\n",
       "    <tr style=\"text-align: right;\">\n",
       "      <th></th>\n",
       "      <th>model_name</th>\n",
       "      <th>R2_score</th>\n",
       "    </tr>\n",
       "  </thead>\n",
       "  <tbody>\n",
       "    <tr>\n",
       "      <th>2</th>\n",
       "      <td>Ridge</td>\n",
       "      <td>0.880593</td>\n",
       "    </tr>\n",
       "    <tr>\n",
       "      <th>0</th>\n",
       "      <td>Linear_Regression</td>\n",
       "      <td>0.880433</td>\n",
       "    </tr>\n",
       "    <tr>\n",
       "      <th>5</th>\n",
       "      <td>Random_Forest_Regressor</td>\n",
       "      <td>0.852999</td>\n",
       "    </tr>\n",
       "    <tr>\n",
       "      <th>7</th>\n",
       "      <td>Catoosting_REgressor</td>\n",
       "      <td>0.851632</td>\n",
       "    </tr>\n",
       "    <tr>\n",
       "      <th>8</th>\n",
       "      <td>AdaBoost Regressor</td>\n",
       "      <td>0.850830</td>\n",
       "    </tr>\n",
       "    <tr>\n",
       "      <th>1</th>\n",
       "      <td>Lasso</td>\n",
       "      <td>0.825320</td>\n",
       "    </tr>\n",
       "    <tr>\n",
       "      <th>6</th>\n",
       "      <td>XGBregressor</td>\n",
       "      <td>0.821589</td>\n",
       "    </tr>\n",
       "    <tr>\n",
       "      <th>3</th>\n",
       "      <td>K-Neighbors Regressor</td>\n",
       "      <td>0.784030</td>\n",
       "    </tr>\n",
       "    <tr>\n",
       "      <th>4</th>\n",
       "      <td>Decision_Tree_Regressor</td>\n",
       "      <td>0.753779</td>\n",
       "    </tr>\n",
       "  </tbody>\n",
       "</table>\n",
       "</div>"
      ],
      "text/plain": [
       "                model_name  R2_score\n",
       "2                    Ridge  0.880593\n",
       "0        Linear_Regression  0.880433\n",
       "5  Random_Forest_Regressor  0.852999\n",
       "7     Catoosting_REgressor  0.851632\n",
       "8       AdaBoost Regressor  0.850830\n",
       "1                    Lasso  0.825320\n",
       "6             XGBregressor  0.821589\n",
       "3    K-Neighbors Regressor  0.784030\n",
       "4  Decision_Tree_Regressor  0.753779"
      ]
     },
     "execution_count": 93,
     "metadata": {},
     "output_type": "execute_result"
    }
   ],
   "source": [
    "#results\n",
    "\n",
    "pd.DataFrame(list(zip(model_list,r2_list)), columns = ['model_name', 'R2_score' ]).sort_values(by = ['R2_score'], ascending = False)"
   ]
  },
  {
   "cell_type": "markdown",
   "id": "3a088192-3d53-40e6-8d08-8c029f4af1b6",
   "metadata": {},
   "source": [
    "# Linear Regression"
   ]
  },
  {
   "cell_type": "code",
   "execution_count": 94,
   "id": "f5a889a5-1302-43a3-b2d4-896318faf851",
   "metadata": {},
   "outputs": [
    {
     "name": "stdout",
     "output_type": "stream",
     "text": [
      "Accuracy of the model is 88.04\n"
     ]
    }
   ],
   "source": [
    "lin_model =LinearRegression(fit_intercept = True)\n",
    "lin_model = lin_model.fit(X_train, y_train)\n",
    "y_pred = lin_model.predict(X_test)\n",
    "score = r2_score(y_test, y_pred)*100\n",
    "print('Accuracy of the model is %.2f' % score)"
   ]
  },
  {
   "cell_type": "code",
   "execution_count": 98,
   "id": "a61aef4a-1ed3-43d7-9567-f51326477c69",
   "metadata": {},
   "outputs": [
    {
     "data": {
      "text/plain": [
       "Text(0, 0.5, 'predicted')"
      ]
     },
     "execution_count": 98,
     "metadata": {},
     "output_type": "execute_result"
    },
    {
     "data": {
      "image/png": "[encoded data removed]",
      "text/plain": [
       "<Figure size 640x480 with 1 Axes>"
      ]
     },
     "metadata": {},
     "output_type": "display_data"
    }
   ],
   "source": [
    "sns.scatterplot(x = y_test, y= y_pred)\n",
    "plt.xlabel('Actual')\n",
    "plt.ylabel('predicted')"
   ]
  },
  {
   "cell_type": "code",
   "execution_count": 100,
   "id": "c77d31fc-9946-4a3f-bb96-340e5eafa31f",
   "metadata": {},
   "outputs": [
    {
     "data": {
      "text/plain": [
       "<Axes: xlabel='math_score'>"
      ]
     },
     "execution_count": 100,
     "metadata": {},
     "output_type": "execute_result"
    },
    {
     "data": {
      "image/png": "[encoded data removed]",
      "text/plain": [
       "<Figure size 640x480 with 1 Axes>"
      ]
     },
     "metadata": {},
     "output_type": "display_data"
    }
   ],
   "source": [
    "sns.regplot(x = y_test, y= y_pred, ci = None, color = 'red')"
   ]
  },
  {
   "cell_type": "code",
   "execution_count": 102,
   "id": "7f7f8409-c2b2-42c5-9b25-d87b5569f73f",
   "metadata": {},
   "outputs": [
    {
     "data": {
      "text/html": [
       "<div>\n",
       "<style scoped>\n",
       "    .dataframe tbody tr th:only-of-type {\n",
       "        vertical-align: middle;\n",
       "    }\n",
       "\n",
       "    .dataframe tbody tr th {\n",
       "        vertical-align: top;\n",
       "    }\n",
       "\n",
       "    .dataframe thead th {\n",
       "        text-align: right;\n",
       "    }\n",
       "</style>\n",
       "<table border=\"1\" class=\"dataframe\">\n",
       "  <thead>\n",
       "    <tr style=\"text-align: right;\">\n",
       "      <th></th>\n",
       "      <th>Actual Values</th>\n",
       "      <th>Predicted value</th>\n",
       "      <th>Difference</th>\n",
       "    </tr>\n",
       "  </thead>\n",
       "  <tbody>\n",
       "    <tr>\n",
       "      <th>521</th>\n",
       "      <td>91</td>\n",
       "      <td>76.387970</td>\n",
       "      <td>14.612030</td>\n",
       "    </tr>\n",
       "    <tr>\n",
       "      <th>737</th>\n",
       "      <td>53</td>\n",
       "      <td>58.885970</td>\n",
       "      <td>-5.885970</td>\n",
       "    </tr>\n",
       "    <tr>\n",
       "      <th>740</th>\n",
       "      <td>80</td>\n",
       "      <td>76.990265</td>\n",
       "      <td>3.009735</td>\n",
       "    </tr>\n",
       "    <tr>\n",
       "      <th>660</th>\n",
       "      <td>74</td>\n",
       "      <td>76.851804</td>\n",
       "      <td>-2.851804</td>\n",
       "    </tr>\n",
       "    <tr>\n",
       "      <th>411</th>\n",
       "      <td>84</td>\n",
       "      <td>87.627378</td>\n",
       "      <td>-3.627378</td>\n",
       "    </tr>\n",
       "    <tr>\n",
       "      <th>...</th>\n",
       "      <td>...</td>\n",
       "      <td>...</td>\n",
       "      <td>...</td>\n",
       "    </tr>\n",
       "    <tr>\n",
       "      <th>408</th>\n",
       "      <td>52</td>\n",
       "      <td>43.409149</td>\n",
       "      <td>8.590851</td>\n",
       "    </tr>\n",
       "    <tr>\n",
       "      <th>332</th>\n",
       "      <td>62</td>\n",
       "      <td>62.152214</td>\n",
       "      <td>-0.152214</td>\n",
       "    </tr>\n",
       "    <tr>\n",
       "      <th>208</th>\n",
       "      <td>74</td>\n",
       "      <td>67.888395</td>\n",
       "      <td>6.111605</td>\n",
       "    </tr>\n",
       "    <tr>\n",
       "      <th>613</th>\n",
       "      <td>65</td>\n",
       "      <td>67.022287</td>\n",
       "      <td>-2.022287</td>\n",
       "    </tr>\n",
       "    <tr>\n",
       "      <th>78</th>\n",
       "      <td>61</td>\n",
       "      <td>62.345132</td>\n",
       "      <td>-1.345132</td>\n",
       "    </tr>\n",
       "  </tbody>\n",
       "</table>\n",
       "<p>200 rows × 3 columns</p>\n",
       "</div>"
      ],
      "text/plain": [
       "     Actual Values  Predicted value  Difference\n",
       "521             91        76.387970   14.612030\n",
       "737             53        58.885970   -5.885970\n",
       "740             80        76.990265    3.009735\n",
       "660             74        76.851804   -2.851804\n",
       "411             84        87.627378   -3.627378\n",
       "..             ...              ...         ...\n",
       "408             52        43.409149    8.590851\n",
       "332             62        62.152214   -0.152214\n",
       "208             74        67.888395    6.111605\n",
       "613             65        67.022287   -2.022287\n",
       "78              61        62.345132   -1.345132\n",
       "\n",
       "[200 rows x 3 columns]"
      ]
     },
     "execution_count": 102,
     "metadata": {},
     "output_type": "execute_result"
    }
   ],
   "source": [
    "pred_df = pd.DataFrame({'Actual Values': y_test, 'Predicted value': y_pred, 'Difference':y_test - y_pred})\n",
    "pred_df"
   ]
  }
 ],
 "metadata": {
  "kernelspec": {
   "display_name": "Python 3 (ipykernel)",
   "language": "python",
   "name": "python3"
  },
  "language_info": {
   "codemirror_mode": {
    "name": "ipython",
    "version": 3
   },
   "file_extension": ".py",
   "mimetype": "text/x-python",
   "name": "python",
   "nbconvert_exporter": "python",
   "pygments_lexer": "ipython3",
   "version": "3.9.16"
  }
 },
 "nbformat": 4,
 "nbformat_minor": 5
}
